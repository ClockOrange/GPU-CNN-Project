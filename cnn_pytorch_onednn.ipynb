{
 "cells": [
  {
   "cell_type": "markdown",
   "metadata": {},
   "source": [
    "### Step 1: Prepare the build/run environment\n",
    "oneDNN has four different configurations inside the Intel oneAPI toolkits. Each configuration is in a different folder under the oneDNN installation path, and each configuration supports a different compiler or threading library  \n",
    "\n",
    "Set the installation path of your oneAPI toolkit"
   ]
  },
  {
   "cell_type": "code",
   "execution_count": 34,
   "metadata": {},
   "outputs": [
    {
     "name": "stdout",
     "output_type": "stream",
     "text": [
      "env: ONEAPI_INSTALL=/opt/intel/oneapi\n"
     ]
    }
   ],
   "source": [
    "# default path: /opt/intel/oneapi\n",
    "%env ONEAPI_INSTALL=/opt/intel/oneapi"
   ]
  },
  {
   "cell_type": "code",
   "execution_count": 35,
   "metadata": {},
   "outputs": [],
   "source": [
    "import os\n",
    "if os.path.isdir(os.environ['ONEAPI_INSTALL']) == False:\n",
    "    print(\"ERROR! wrong oneAPI installation path\")"
   ]
  },
  {
   "cell_type": "code",
   "execution_count": 36,
   "metadata": {
    "scrolled": true
   },
   "outputs": [
    {
     "name": "stdout",
     "output_type": "stream",
     "text": [
      "/opt/intel/oneapi/dnnl/latest/cpu_dpcpp_gpu_dpcpp\n",
      "/opt/intel/oneapi/dnnl/latest/cpu_gomp\n",
      "/opt/intel/oneapi/dnnl/latest/cpu_iomp\n",
      "/opt/intel/oneapi/dnnl/latest/cpu_tbb\n"
     ]
    }
   ],
   "source": [
    "!printf '%s\\n'     $ONEAPI_INSTALL/dnnl/latest/cpu_*"
   ]
  },
  {
   "cell_type": "markdown",
   "metadata": {},
   "source": [
    "As you can see, there are four different folders under the oneDNN installation path, and each of those configurations supports different features. This tutorial will use the dpcpp configuration to showcase the verbose log for both CPU and GPU."
   ]
  },
  {
   "cell_type": "markdown",
   "metadata": {},
   "source": [
    "Create a lab folder for this exercise."
   ]
  },
  {
   "cell_type": "code",
   "execution_count": 23,
   "metadata": {},
   "outputs": [],
   "source": [
    "!mkdir -p lab"
   ]
  },
  {
   "cell_type": "markdown",
   "metadata": {},
   "source": [
    "Install required python packages."
   ]
  },
  {
   "cell_type": "code",
   "execution_count": 37,
   "metadata": {},
   "outputs": [
    {
     "name": "stdout",
     "output_type": "stream",
     "text": [
      "Defaulting to user installation because normal site-packages is not writeable\n",
      "Requirement already satisfied: pandas in /glob/development-tools/versions/oneapi/gold/inteloneapi/intelpython/python3.7/lib/python3.7/site-packages (from -r requirements.txt (line 2)) (1.0.5)\n",
      "Requirement already satisfied: matplotlib in /glob/development-tools/versions/oneapi/gold/inteloneapi/intelpython/python3.7/lib/python3.7/site-packages (from -r requirements.txt (line 3)) (3.1.2)\n",
      "Requirement already satisfied: psutil in /home/u54707/.local/lib/python3.7/site-packages (from -r requirements.txt (line 4)) (5.7.3)\n",
      "Requirement already satisfied: cycler>=0.10 in /glob/development-tools/versions/oneapi/gold/inteloneapi/intelpython/python3.7/lib/python3.7/site-packages (from matplotlib->-r requirements.txt (line 3)) (0.10.0)\n",
      "Requirement already satisfied: kiwisolver>=1.0.1 in /glob/development-tools/versions/oneapi/gold/inteloneapi/intelpython/python3.7/lib/python3.7/site-packages (from matplotlib->-r requirements.txt (line 3)) (1.2.0)\n",
      "Requirement already satisfied: pyparsing!=2.0.4,!=2.1.2,!=2.1.6,>=2.0.1 in /glob/development-tools/versions/oneapi/gold/inteloneapi/intelpython/python3.7/lib/python3.7/site-packages (from matplotlib->-r requirements.txt (line 3)) (2.4.7)\n",
      "Requirement already satisfied: python-dateutil>=2.1 in /glob/development-tools/versions/oneapi/gold/inteloneapi/intelpython/python3.7/lib/python3.7/site-packages (from matplotlib->-r requirements.txt (line 3)) (2.8.1)\n",
      "Requirement already satisfied: numpy>=1.11 in /glob/development-tools/versions/oneapi/gold/inteloneapi/intelpython/python3.7/lib/python3.7/site-packages (from matplotlib->-r requirements.txt (line 3)) (1.19.2)\n",
      "Requirement already satisfied: six in /glob/development-tools/versions/oneapi/gold/inteloneapi/intelpython/python3.7/lib/python3.7/site-packages (from cycler>=0.10->matplotlib->-r requirements.txt (line 3)) (1.15.0)\n",
      "Requirement already satisfied: pytz>=2017.2 in /glob/development-tools/versions/oneapi/gold/inteloneapi/intelpython/python3.7/lib/python3.7/site-packages (from pandas->-r requirements.txt (line 2)) (2020.1)\n"
     ]
    }
   ],
   "source": [
    "!python3 -m pip install -r requirements.txt\n",
    "# !python -m pip install --user -r requirements.txt"
   ]
  },
  {
   "cell_type": "code",
   "execution_count": 7,
   "metadata": {},
   "outputs": [
    {
     "name": "stdout",
     "output_type": "stream",
     "text": [
      "Defaulting to user installation because normal site-packages is not writeable\n",
      "Requirement already satisfied: torch in /home/u54707/.local/lib/python3.7/site-packages (1.7.1)\n",
      "Requirement already satisfied: numpy in /glob/development-tools/versions/oneapi/gold/inteloneapi/intelpython/python3.7/lib/python3.7/site-packages (from torch) (1.19.2)\n",
      "Requirement already satisfied: typing-extensions in /home/u54707/.local/lib/python3.7/site-packages (from torch) (3.7.4.3)\n"
     ]
    }
   ],
   "source": [
    "!python3 -m pip install torch"
   ]
  },
  {
   "cell_type": "code",
   "execution_count": 41,
   "metadata": {},
   "outputs": [
    {
     "name": "stdout",
     "output_type": "stream",
     "text": [
      "5000 loops, best of 5: 43.4 usec per loop\n"
     ]
    }
   ],
   "source": [
    "!python3 -m timeit --setup=\"import torch; net = torch.nn.Linear(784,216); batch = torch.rand(10,784)\" \"net(batch)\"\n"
   ]
  },
  {
   "cell_type": "code",
   "execution_count": 11,
   "metadata": {},
   "outputs": [
    {
     "name": "stdout",
     "output_type": "stream",
     "text": [
      "Defaulting to user installation because normal site-packages is not writeable\n",
      "Collecting torchvision\n",
      "  Downloading torchvision-0.8.2-cp37-cp37m-manylinux1_x86_64.whl (12.8 MB)\n",
      "\u001b[K     |████████████████████████████████| 12.8 MB 55 kB/s  eta 0:00:01\n",
      "\u001b[?25hRequirement already satisfied: numpy in /glob/development-tools/versions/oneapi/gold/inteloneapi/intelpython/python3.7/lib/python3.7/site-packages (from torchvision) (1.19.2)\n",
      "Requirement already satisfied: torch==1.7.1 in /home/u54707/.local/lib/python3.7/site-packages (from torchvision) (1.7.1)\n",
      "Collecting pillow>=4.1.1\n",
      "  Downloading Pillow-8.0.1-cp37-cp37m-manylinux1_x86_64.whl (2.2 MB)\n",
      "\u001b[K     |████████████████████████████████| 2.2 MB 27.2 MB/s eta 0:00:01\n",
      "\u001b[?25hRequirement already satisfied: typing-extensions in /home/u54707/.local/lib/python3.7/site-packages (from torch==1.7.1->torchvision) (3.7.4.3)\n",
      "Installing collected packages: pillow, torchvision\n",
      "Successfully installed pillow-8.0.1 torchvision-0.8.2\n"
     ]
    }
   ],
   "source": [
    "!python3 -m pip install torchvision"
   ]
  },
  {
   "cell_type": "markdown",
   "metadata": {},
   "source": [
    "Get current platform information for this exercise."
   ]
  },
  {
   "cell_type": "code",
   "execution_count": 38,
   "metadata": {},
   "outputs": [
    {
     "name": "stdout",
     "output_type": "stream",
     "text": [
      "==================== CPU Info ====================\n",
      "Physical cores: 12\n",
      "Total cores: 24\n",
      "Max Frequency: 3700.0\n",
      "Min Frequency: 1200.0\n",
      "Socket Number: 2\n",
      "==================== Memory Information ====================\n",
      "Total:  188 GB\n"
     ]
    }
   ],
   "source": [
    "from profiling.profile_utils import PlatformUtils\n",
    "plat_utils = PlatformUtils()\n",
    "plat_utils.dump_platform_info()"
   ]
  },
  {
   "cell_type": "code",
   "execution_count": 39,
   "metadata": {},
   "outputs": [],
   "source": [
    "import torch\n",
    "from torchvision import datasets,transforms\n",
    "import torchvision\n",
    "from torch.autograd import  Variable\n",
    "import numpy as np\n",
    "import matplotlib.pyplot as plt\n",
    "\n",
    "#./data\n",
    "# transform = transforms.Compose([transforms.ToTensor(),transforms.Lambda(lambda x:x.repeat(3,1,1)),transforms.Normalize(mean=[0.5,0.5,0.5],std=[0.5,0.5,0.5])])\n",
    "data_train=datasets.MNIST(root=\"./mnist\",  transform=transforms.ToTensor(), train=True,\n",
    "                          download=True\n",
    "                          )\n",
    "data_test=datasets.MNIST(root=\"./mnist\", transform=transforms.ToTensor(), train=False)\n",
    "data_loader_train=torch.utils.data.DataLoader(dataset=data_train,\n",
    "                                              batch_size=50,\n",
    "                                              shuffle=True)\n",
    "data_loader_test=torch.utils.data.DataLoader(dataset=data_test,\n",
    "                                             batch_size=50,\n",
    "                                             shuffle=True)\n"
   ]
  },
  {
   "cell_type": "code",
   "execution_count": 40,
   "metadata": {},
   "outputs": [
    {
     "name": "stdout",
     "output_type": "stream",
     "text": [
      "[tensor(0), tensor(7), tensor(0), tensor(0)]\n"
     ]
    }
   ],
   "source": [
    "images,labels=next(iter(data_loader_train))\n",
    "img=torchvision.utils.make_grid(images)\n",
    " \n",
    "img=img.numpy().transpose(1,2,0)\n",
    " \n",
    "std=[0.5,0.5,0.5]\n",
    "mean=[0.5,0.5,0.5]\n",
    " \n",
    "img=img*std+mean\n",
    " \n",
    "print([labels[i] for i in range(4)])\n",
    " \n",
    "plt.show()"
   ]
  },
  {
   "cell_type": "code",
   "execution_count": 41,
   "metadata": {},
   "outputs": [
    {
     "name": "stdout",
     "output_type": "stream",
     "text": [
      "Model(\n",
      "  (conv1): Sequential(\n",
      "    (0): Conv2d(1, 6, kernel_size=(5, 5), stride=(1, 1))\n",
      "    (1): ReLU()\n",
      "    (2): MaxPool2d(kernel_size=4, stride=4, padding=0, dilation=1, ceil_mode=False)\n",
      "  )\n",
      "  (dense): Linear(in_features=216, out_features=10, bias=True)\n",
      ")\n",
      "Epoch0/5\n",
      "----------\n",
      "Loss is :0.0085,Train Accuracy is:88.4717%,Test Accuracy is:94.6700\n",
      "Epoch1/5\n",
      "----------\n",
      "Loss is :0.0030,Train Accuracy is:95.7000%,Test Accuracy is:96.4100\n",
      "Epoch2/5\n",
      "----------\n",
      "Loss is :0.0023,Train Accuracy is:96.5367%,Test Accuracy is:97.0300\n",
      "Epoch3/5\n",
      "----------\n",
      "Loss is :0.0020,Train Accuracy is:96.9817%,Test Accuracy is:97.3000\n",
      "Epoch4/5\n",
      "----------\n",
      "Loss is :0.0018,Train Accuracy is:97.3467%,Test Accuracy is:97.5700\n",
      "total execution time is  0:00:31.452932\n"
     ]
    }
   ],
   "source": [
    "import time\n",
    "import datetime\n",
    "\n",
    "# starttime = time.clock()\n",
    "starttime= datetime.datetime.now()\n",
    "\n",
    "class Model(torch.nn.Module):\n",
    "    def __init__(self):\n",
    "        super(Model,self).__init__()\n",
    "        self.conv1 = torch.nn.Sequential(torch.nn.Conv2d(1,6,kernel_size=5,stride=1,padding=0),\n",
    "                                        torch.nn.ReLU(),\n",
    "                                        torch.nn.MaxPool2d(kernel_size=4))\n",
    "        self.dense = torch.nn.Linear(6*6*6,10)\n",
    "        \n",
    "    def forward(self,x):\n",
    "        x = self.conv1(x)\n",
    "#         x = x.view(-1,14*14*128)\n",
    "        x = x.view(x.size(0),-1)\n",
    "        x = self.dense(x)\n",
    "        return x\n",
    "    \n",
    "model = Model()\n",
    "# if torch.cuda.is_available():\n",
    "#     model.cuda()#将所有的模型参数移动到GPU上\n",
    "cost = torch.nn.CrossEntropyLoss()\n",
    "optimzer = torch.optim.Adam(model.parameters())\n",
    "print(model)\n",
    "\n",
    "n_epochs = 5\n",
    " \n",
    "for epoch in range(n_epochs):\n",
    "    running_loss = 0.0\n",
    "    running_correct = 0\n",
    "    print(\"Epoch{}/{}\".format(epoch,n_epochs))\n",
    "    print(\"-\"*10)\n",
    "    for data in data_loader_train:\n",
    "        #print(\"train ing\")\n",
    "        X_train,y_train = data\n",
    "        #有GPU加下面这行，没有不用加\n",
    "#         X_train,y_train = X_train.cuda(),y_train.cuda()\n",
    "        X_train,y_train = Variable(X_train),Variable(y_train)\n",
    "        outputs = model(X_train)\n",
    "        _,pred = torch.max(outputs.data,1)\n",
    "        optimzer.zero_grad()\n",
    "        loss = cost(outputs,y_train)\n",
    "        \n",
    "        loss.backward()\n",
    "        optimzer.step()\n",
    "        running_loss += loss.item()\n",
    "        running_correct += torch.sum(pred == y_train.data)\n",
    "    testing_correct = 0\n",
    "    for data in data_loader_test:\n",
    "        X_test,y_test = data\n",
    "        #有GPU加下面这行，没有不用加\n",
    "#         X_test,y_test = X_test.cuda(),y_test.cuda()\n",
    "        X_test,y_test = Variable(X_test),Variable(y_test)\n",
    "        outputs = model(X_test)\n",
    "        _,pred = torch.max(outputs,1)\n",
    "        testing_correct += torch.sum(pred == y_test.data)\n",
    "    print(\"Loss is :{:.4f},Train Accuracy is:{:.4f}%,Test Accuracy is:{:.4f}\".format(running_loss/len(data_train),100*running_correct/len(data_train),100*testing_correct/len(data_test)))\n",
    "    \n",
    "# endtime = time.clock()\n",
    "endtime = datetime.datetime.now()\n",
    "print('total execution time is ', (endtime - starttime))"
   ]
  },
  {
   "cell_type": "code",
   "execution_count": null,
   "metadata": {},
   "outputs": [],
   "source": []
  }
 ],
 "metadata": {
  "kernelspec": {
   "display_name": "Python 3.7 (Intel® oneAPI)",
   "language": "python",
   "name": "c009-intel_distribution_of_python_3_oneapi-beta05-python"
  },
  "language_info": {
   "codemirror_mode": {
    "name": "ipython",
    "version": 3
   },
   "file_extension": ".py",
   "mimetype": "text/x-python",
   "name": "python",
   "nbconvert_exporter": "python",
   "pygments_lexer": "ipython3",
   "version": "3.7.9"
  },
  "toc": {
   "base_numbering": 1,
   "nav_menu": {},
   "number_sections": true,
   "sideBar": true,
   "skip_h1_title": false,
   "title_cell": "Table of Contents",
   "title_sidebar": "Contents",
   "toc_cell": false,
   "toc_position": {
    "height": "525.6px",
    "left": "28px",
    "top": "137.8px",
    "width": "301.109px"
   },
   "toc_section_display": true,
   "toc_window_display": true
  }
 },
 "nbformat": 4,
 "nbformat_minor": 4
}
